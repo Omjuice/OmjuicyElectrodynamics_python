{
 "cells": [
  {
   "cell_type": "markdown",
   "metadata": {},
   "source": [
    "# HW01.5: Numpy and For Loops - Spring 2024 - JTS Template"
   ]
  },
  {
   "cell_type": "markdown",
   "metadata": {},
   "source": [
    "*Jaideep Taggart Singh - 2023-12-27*\n",
    "\n",
    "Python Jupyter notebooks have different types of cells. The two cells used in this template are **markdown** and **code**. **Markdown** is for text and comments and can interpret LaTeX commands:\n",
    "\n",
    "$\\int_{0}^{2\\pi}\\ \\hat{s}\\ d\\phi = 0$\n",
    "\n",
    "see also: https://www.markdownguide.org/\n",
    "\n",
    "The second type is **code** and is used for the actual Python code.\n",
    "\n",
    "**numpy** is a library of functions that makes array and matrix manipulation in python very fast - use numpy early and often:\n",
    "\n",
    "https://numpy.org/\n",
    "\n",
    "You need to tell Python to load the numpy library. This is done with the **import** command. Instead of having to type in **numpy** every time you need to use a numpy function, you can specify the abbreviation **np** which is a common convention.\n",
    "\n",
    "**Note** that each **cell** can be run seperately and the output is saved in memory. It is usually, but not always, the safest and fastest to **Restart and Run All** from the **Kernel** menu above when testing your code. We'll explore the exceptions throughout the semester in more sophisticated examples."
   ]
  },
  {
   "cell_type": "code",
   "execution_count": null,
   "metadata": {},
   "outputs": [],
   "source": [
    "import numpy as np"
   ]
  },
  {
   "cell_type": "markdown",
   "metadata": {},
   "source": [
    "**numpy.linspace** creates an array of equally spaced numbers, very useful, see useage here:\n",
    "\n",
    "https://numpy.org/doc/stable/reference/generated/numpy.linspace.html\n",
    "\n",
    "the **print** command in Python version 3.0 and higher requires parantheses:\n",
    "\n",
    "https://docs.python.org/3/tutorial/inputoutput.html"
   ]
  },
  {
   "cell_type": "code",
   "execution_count": null,
   "metadata": {},
   "outputs": [],
   "source": [
    "numtot = 11\n",
    "numbers = np.linspace(0,10,numtot)\n",
    "print(numbers)"
   ]
  },
  {
   "cell_type": "markdown",
   "metadata": {},
   "source": [
    "You will need to add an equation after line 3 in the following **cell** in order to calculate the sum total.\n",
    "\n",
    "Note carefully the spacing after the **for** loop statement, anything with the correct number of spaces or indent or tab happens within the loop and is repeated, anything without this spacing is outside the loop and is not repeated.\n",
    "\n",
    "useful reference for **for** loops:\n",
    "\n",
    "https://wiki.python.org/moin/ForLoop"
   ]
  },
  {
   "cell_type": "code",
   "execution_count": null,
   "metadata": {},
   "outputs": [],
   "source": [
    "sumtotal = 0\n",
    "count = 0\n",
    "for thisnumber in numbers:\n",
    "    print(\"inside loop: does\",count,\"equal\",numtot,\"?\")\n",
    "    print(\"inside loop:\",thisnumber,\"plus 137 is\",thisnumber+137,\": another way to get thisnumber is by indexing -> numbers[count] =\",numbers[count])\n",
    "    count = count + 1\n",
    "print(\"outside loop: does\",count,\"equal\",numtot,\"?\")"
   ]
  },
  {
   "cell_type": "markdown",
   "metadata": {},
   "source": [
    "Note how the **print** command inserts spaces by default in the output.\n",
    "\n",
    "For very large arrays/matrices, computing using the built-in **numpy** functions is way faster than doing it yourself using loops."
   ]
  },
  {
   "cell_type": "code",
   "execution_count": null,
   "metadata": {},
   "outputs": [],
   "source": [
    "print(\"The sum from\",numbers[0],\"to\",numbers[numtot-1],\"is\",sumtotal)\n",
    "print(\"Another way to find the number is to use numpy.sum =\",np.sum(numbers))"
   ]
  },
  {
   "cell_type": "markdown",
   "metadata": {},
   "source": [
    "**Upload to D2L:** *the python jupyter notebook itself so that we can test to see if the code actually runs*\n",
    "\n",
    "**Upload to Gradescope:** *a screenshot of the code with the output*"
   ]
  }
 ],
 "metadata": {
  "kernelspec": {
   "display_name": "Python 3 (ipykernel)",
   "language": "python",
   "name": "python3"
  },
  "language_info": {
   "codemirror_mode": {
    "name": "ipython",
    "version": 3
   },
   "file_extension": ".py",
   "mimetype": "text/x-python",
   "name": "python",
   "nbconvert_exporter": "python",
   "pygments_lexer": "ipython3",
   "version": "3.8.8"
  }
 },
 "nbformat": 4,
 "nbformat_minor": 4
}
